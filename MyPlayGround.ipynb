{
 "cells": [
  {
   "cell_type": "markdown",
   "id": "254ab765-dde3-4803-b667-d609c4246316",
   "metadata": {},
   "source": [
    "# My Playground\n"
   ]
  },
  {
   "cell_type": "code",
   "execution_count": 3,
   "id": "c2a9d0aa",
   "metadata": {},
   "outputs": [
    {
     "name": "stdout",
     "output_type": "stream",
     "text": [
      "CPU times: user 5 μs, sys: 0 ns, total: 5 μs\n",
      "Wall time: 7.39 μs\n"
     ]
    }
   ],
   "source": [
    "%%time\n",
    "xmin = -2\n",
    "xmax = 1\n",
    "ymin = -1\n",
    "ymax = 1\n",
    "maxiter = 255\n",
    "width = 800\n",
    "def mandel(xmin,xmax,ymin,ymax,width,height,maxiter):\n",
    "    pixels = []\n",
    "    for i in range(height):\n",
    "        y = ymin + (ymax - ymin) * i / (height - 1)\n",
    "        row = []\n",
    "        for j in range(width):\n",
    "            x = xmin + (xmax - xmin) * j / (width - 1)\n",
    "            c = complex(x,y)\n",
    "            z = 0\n",
    "            for k in range(maxiter):\n",
    "                if abs(z) > 2.0:\n",
    "                    break\n",
    "                z = z*z + c\n",
    "            row.append(k)\n",
    "        pixels.append(row)\n",
    "    return pixels"
   ]
  },
  {
   "cell_type": "code",
   "execution_count": null,
   "id": "62581974",
   "metadata": {},
   "outputs": [],
   "source": [
    "\n",
    "pixels=mandel(xmin,xmax,ymin,ymax,width,width,maxiter)\n"
   ]
  },
  {
   "cell_type": "code",
   "execution_count": null,
   "id": "afecdc65",
   "metadata": {},
   "outputs": [],
   "source": [
    "%%time\n",
    "import matplotlib.pyplot as plt\n",
    "\n",
    "plt.imshow(pixels, extent=(xmin, xmax, ymin, ymax), cmap='hot')\n",
    "plt.colorbar()\n",
    "plt.title('Mandelbrot Set')\n",
    "plt.show()"
   ]
  },
  {
   "cell_type": "code",
   "execution_count": null,
   "id": "d62a2521-6dbe-446f-b886-0c333d0aa628",
   "metadata": {},
   "outputs": [],
   "source": []
  },
  {
   "cell_type": "code",
   "execution_count": null,
   "id": "9eac17e7-d1a7-4b93-a0a4-0d2e25c6f1ea",
   "metadata": {},
   "outputs": [],
   "source": []
  },
  {
   "cell_type": "code",
   "execution_count": null,
   "id": "b54b60b1-d01e-4355-b063-e82bfa6ace81",
   "metadata": {},
   "outputs": [],
   "source": []
  },
  {
   "cell_type": "code",
   "execution_count": null,
   "id": "e743bf10-3c3f-4782-b4f1-0e1e6d4fe210",
   "metadata": {},
   "outputs": [],
   "source": []
  }
 ],
 "metadata": {
  "kernelspec": {
   "display_name": "Python 3 (ipykernel)",
   "language": "python",
   "name": "python3"
  },
  "language_info": {
   "codemirror_mode": {
    "name": "ipython",
    "version": 3
   },
   "file_extension": ".py",
   "mimetype": "text/x-python",
   "name": "python",
   "nbconvert_exporter": "python",
   "pygments_lexer": "ipython3",
   "version": "3.12.1"
  }
 },
 "nbformat": 4,
 "nbformat_minor": 5
}
